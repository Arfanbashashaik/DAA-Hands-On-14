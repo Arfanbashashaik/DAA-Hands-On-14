{
  "nbformat": 4,
  "nbformat_minor": 0,
  "metadata": {
    "colab": {
      "private_outputs": true,
      "provenance": [],
      "authorship_tag": "ABX9TyNqHE4OJj/6Kqj6QhN0kSWm",
      "include_colab_link": true
    },
    "kernelspec": {
      "name": "python3",
      "display_name": "Python 3"
    },
    "language_info": {
      "name": "python"
    }
  },
  "cells": [
    {
      "cell_type": "markdown",
      "metadata": {
        "id": "view-in-github",
        "colab_type": "text"
      },
      "source": [
        "<a href=\"https://colab.research.google.com/github/Arfanbashashaik/DAA-Hands-On-14/blob/main/Bellman_Ford_algorithm.ipynb\" target=\"_parent\"><img src=\"https://colab.research.google.com/assets/colab-badge.svg\" alt=\"Open In Colab\"/></a>"
      ]
    },
    {
      "cell_type": "code",
      "source": [
        "def find_shortest_paths(weighted_graph, source):\n",
        "    shortest_distances = {vertex:float('inf') for vertex in weighted_graph}\n",
        "    shortest_distances[source]=0\n",
        "    for _ in range(len(weighted_graph)-1):\n",
        "        for current_node in weighted_graph:\n",
        "            for adjacent_node,edge_weight in weighted_graph[current_node].items():\n",
        "                if (shortest_distances[current_node]+edge_weight <\n",
        "                        shortest_distances[adjacent_node]):\n",
        "                    shortest_distances[adjacent_node]=shortest_distances[current_node]+edge_weight\n",
        "    for current_node in weighted_graph:\n",
        "        for adjacent_node, edge_weight in weighted_graph[current_node].items():\n",
        "            if (shortest_distances[current_node]+edge_weight<\n",
        "                    shortest_distances[adjacent_node]):\n",
        "                raise ValueError(\"The graph contains a negative weight cycle.\")\n",
        "    return shortest_distances\n",
        "# Example usage\n",
        "graph_data = {\n",
        "    'A':{'B':8,'C':9},\n",
        "    'B':{'D':2},\n",
        "    'C':{'B':4,'D':6},\n",
        "    'D':{'E':-7},\n",
        "    'E':{}\n",
        "}\n",
        "starting_vertex='A'\n",
        "try:\n",
        "    distances=find_shortest_paths(graph_data, starting_vertex)\n",
        "    print(f\"Shortest paths from node '{starting_vertex}':\")\n",
        "    for vertex,distance in distances.items():\n",
        "        print(f\"{vertex}:{distance}\")\n",
        "except ValueError as error:\n",
        "    print(f\"Error:{error}\")\n"
      ],
      "metadata": {
        "id": "CVucuS_aa9V6"
      },
      "execution_count": null,
      "outputs": []
    },
    {
      "cell_type": "code",
      "execution_count": null,
      "metadata": {
        "id": "-w6XdHKla0Ti"
      },
      "outputs": [],
      "source": []
    }
  ]
}