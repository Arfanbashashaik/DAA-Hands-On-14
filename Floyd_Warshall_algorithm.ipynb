{
  "nbformat": 4,
  "nbformat_minor": 0,
  "metadata": {
    "colab": {
      "private_outputs": true,
      "provenance": [],
      "authorship_tag": "ABX9TyM5yvpgyR86Tr5z7ZoQZXU+",
      "include_colab_link": true
    },
    "kernelspec": {
      "name": "python3",
      "display_name": "Python 3"
    },
    "language_info": {
      "name": "python"
    }
  },
  "cells": [
    {
      "cell_type": "markdown",
      "metadata": {
        "id": "view-in-github",
        "colab_type": "text"
      },
      "source": [
        "<a href=\"https://colab.research.google.com/github/Arfanbashashaik/DAA-Hands-On-14/blob/main/Floyd_Warshall_algorithm.ipynb\" target=\"_parent\"><img src=\"https://colab.research.google.com/assets/colab-badge.svg\" alt=\"Open In Colab\"/></a>"
      ]
    },
    {
      "cell_type": "code",
      "execution_count": null,
      "metadata": {
        "id": "mh5gZ4w1AAsf"
      },
      "outputs": [],
      "source": [
        "def find_shortest_paths_all_pairs(adj_list):\n",
        "    shortest_matrix = {start:{end:float('inf')for end in adj_list} for start in adj_list}\n",
        "    for node in adj_list:\n",
        "        shortest_matrix[node][node]=0\n",
        "        for connected_node,cost in adj_list[node].items():\n",
        "            shortest_matrix[node][connected_node]=cost\n",
        "    for midpoint in adj_list:\n",
        "        for source in adj_list:\n",
        "            for target in adj_list:\n",
        "                shortest_matrix[source][target]= min(\n",
        "                    shortest_matrix[source][target],\n",
        "                    shortest_matrix[source][midpoint] +shortest_matrix[midpoint][target]\n",
        "                )\n",
        "    return shortest_matrix\n",
        "weighted_network = {\n",
        "    'A':{'B': 2, 'C': 4, 'D': 5},\n",
        "    'B':{'A': 2, 'C': 1},\n",
        "    'C':{'D': 3},\n",
        "    'D':{'A': 1, 'C': 6}\n",
        "}\n",
        "result_matrix = find_shortest_paths_all_pairs(weighted_network)\n",
        "print(\"Shortest distances between all pairs of nodes:\")\n",
        "for start_node, targets in result_matrix.items():\n",
        "    for end_node, distance in targets.items():\n",
        "        print(f\"Distance from {start_node} to {end_node}: {distance}\")\n"
      ]
    }
  ]
}