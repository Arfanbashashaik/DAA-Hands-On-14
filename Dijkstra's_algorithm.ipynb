{
  "nbformat": 4,
  "nbformat_minor": 0,
  "metadata": {
    "colab": {
      "private_outputs": true,
      "provenance": [],
      "authorship_tag": "ABX9TyOyweecDNfDb1tLJk14Y47B",
      "include_colab_link": true
    },
    "kernelspec": {
      "name": "python3",
      "display_name": "Python 3"
    },
    "language_info": {
      "name": "python"
    }
  },
  "cells": [
    {
      "cell_type": "markdown",
      "metadata": {
        "id": "view-in-github",
        "colab_type": "text"
      },
      "source": [
        "<a href=\"https://colab.research.google.com/github/Arfanbashashaik/DAA-Hands-On-14/blob/main/Dijkstra's_algorithm.ipynb\" target=\"_parent\"><img src=\"https://colab.research.google.com/assets/colab-badge.svg\" alt=\"Open In Colab\"/></a>"
      ]
    },
    {
      "cell_type": "code",
      "execution_count": null,
      "metadata": {
        "id": "JuvQWIzC-NGH"
      },
      "outputs": [],
      "source": [
        "import heapq\n",
        "def compute_shortest_paths(weighted_adj_list,start_point):\n",
        "    shortest_paths={key:float('inf') for key in weighted_adj_list}\n",
        "    shortest_paths[start_point]=0\n",
        "    exploration_queue=[(0,start_point)]\n",
        "    while exploration_queue:\n",
        "        path_length,active_node=heapq.heappop(exploration_queue)\n",
        "        if path_length>shortest_paths[active_node]:\n",
        "            continue\n",
        "        for linked_node,connection_cost in weighted_adj_list[active_node].items():\n",
        "            calculated_distance=path_length+connection_cost\n",
        "            if calculated_distance<shortest_paths[linked_node]:\n",
        "                shortest_paths[linked_node]=calculated_distance\n",
        "                heapq.heappush(exploration_queue,(calculated_distance,linked_node))\n",
        "    return shortest_paths\n",
        "# Example usage\n",
        "network_graph = {\n",
        "    'A':{'B':4,'C':7},\n",
        "    'B': {'A':3,'C':6,'D':6},\n",
        "    'C': {'A':1,'B':1,'D':1},\n",
        "    'D': {'B':9,'C':2}\n",
        "}\n",
        "source_node='A'\n",
        "resulting_distances=compute_shortest_paths(network_graph,source_node)\n",
        "print(f\"Shortest paths from '{source_node}':\")\n",
        "for destination,distance in resulting_distances.items():\n",
        "    print(f\"{destination}:{distance}\")"
      ]
    }
  ]
}